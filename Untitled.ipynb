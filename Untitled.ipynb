{
 "cells": [
  {
   "cell_type": "code",
   "execution_count": 1,
   "metadata": {},
   "outputs": [
    {
     "name": "stderr",
     "output_type": "stream",
     "text": [
      "Using TensorFlow backend.\n"
     ]
    }
   ],
   "source": [
    "from keras.datasets import mnist\n",
    "import numpy as np\n",
    "from keras.layers import Input, Dense, Flatten, Reshape\n",
    "from keras.models import Model\n",
    "import keras.backend as K\n",
    "from keras.layers import Lambda\n",
    "import glob, os\n",
    "import keras\n",
    "from keras.preprocessing.image import ImageDataGenerator\n",
    "import cv2\n",
    "from tqdm import tqdm\n",
    "import pandas as pd\n",
    "import gc\n",
    "\n",
    "base_dir = 'Selfie-dataset/images' \n",
    "batch_size = 64"
   ]
  },
  {
   "cell_type": "code",
   "execution_count": 2,
   "metadata": {},
   "outputs": [
    {
     "name": "stdout",
     "output_type": "stream",
     "text": [
      "Found 0 images belonging to 0 classes.\n"
     ]
    }
   ],
   "source": [
    "datagen = ImageDataGenerator(rescale = 1./255,\n",
    "        rotation_range = 20,\n",
    "                            )\n",
    "\n",
    "generator = datagen.flow_from_directory(\n",
    "base_dir , \n",
    "target_size=(306, 306 , 3),\n",
    "batch_size=64 , \n",
    "class_mode='input',\n",
    ")"
   ]
  },
  {
   "cell_type": "code",
   "execution_count": 144,
   "metadata": {
    "scrolled": true
   },
   "outputs": [
    {
     "name": "stderr",
     "output_type": "stream",
     "text": [
      "100%|███████████████████████████████████████████████████████████████████████████| 18040/18040 [00:21<00:00, 821.22it/s]\n"
     ]
    }
   ],
   "source": [
    "df = pd.read_csv('Selfie-dataset/selfie_dataset.csv')\n",
    "df = df[(df.partial_faces == 0) & (df.baby == 0) & (df.child == 0)]\n",
    "images = []\n",
    "for i in tqdm(range(int(df['image_name'].shape[0]/2))):\n",
    "    file = df['image_name'].iloc[i]\n",
    "    img = cv2.imread(base_dir+'/'+file+'.jpg')\n",
    "    img = cv2.cvtColor(img, cv2.COLOR_BGR2GRAY)\n",
    "    img = cv2.resize(img, (32,32)).reshape(32,32,1).astype('float32') / 255\n",
    "    images.append(img)\n",
    "images = np.array(images)\n",
    "#gc.collect()"
   ]
  },
  {
   "cell_type": "code",
   "execution_count": 211,
   "metadata": {},
   "outputs": [],
   "source": [
    "from keras.layers import Conv2D, MaxPooling2D, UpSampling2D, BatchNormalization,Conv2DTranspose\n",
    "\n",
    "def create_deep_conv_ae():\n",
    "    input_img = Input(shape=(32, 32, 1))  # adapt this if using `channels_first` image data format\n",
    "\n",
    "    x = Conv2D(24, (3, 3), activation='relu', padding='same')(input_img)\n",
    "    x = MaxPooling2D((2, 2), padding='same')(x)\n",
    "    x = Conv2D(48, (3, 3), activation='relu', padding='same')(x)\n",
    "    x = MaxPooling2D((2, 2), padding='same')(x)\n",
    "    x = Conv2D(64, (3, 3), activation='relu', padding='same')(x)\n",
    "    encoder = MaxPooling2D((2, 2), padding='same')(x)\n",
    "\n",
    "    # at this point the representation is (4, 4, 8) i.e. 128-dimensional\n",
    "\n",
    "    x = Conv2D(64, (3, 3), activation='relu', padding='same')(encoder)\n",
    "    x = UpSampling2D((2, 2))(x)\n",
    "    x = Conv2D(48, (3, 3), activation='relu', padding='same')(x)\n",
    "    x = UpSampling2D((2, 2))(x)\n",
    "    x = Conv2D(24, (3, 3), activation='relu', padding='same')(x)\n",
    "    x = UpSampling2D((2, 2))(x)\n",
    "    decoder = Conv2D(1, (3, 3), activation='sigmoid', padding='same')(x)\n",
    "\n",
    "    autoencoder = Model(input_img, decoder)\n",
    "    #autoencoder.compile(optimizer='adadelta', loss='binary_crossentropy')\n",
    "    \n",
    "    autoencoder.summary()\n",
    "    \n",
    "    return encoder, decoder, autoencoder"
   ]
  },
  {
   "cell_type": "code",
   "execution_count": 212,
   "metadata": {},
   "outputs": [],
   "source": [
    "def create_denoising_model(autoencoder):\n",
    "    def add_noise(x):\n",
    "        noise_factor = 0.5\n",
    "        x = x + K.random_normal(x.get_shape(), 0.5, noise_factor)\n",
    "        x = K.clip(x, 0., 1.)\n",
    "        return x\n",
    "\n",
    "    input_img  = Input(batch_shape=(batch_size, 32, 32, 1))\n",
    "    noised_img = Lambda(add_noise)(input_img)\n",
    "\n",
    "    noiser = Model(input_img, noised_img, name=\"noiser\")\n",
    "    denoiser_model = Model(input_img, autoencoder(noiser(input_img)), name=\"denoiser\")\n",
    "    return noiser, denoiser_model"
   ]
  },
  {
   "cell_type": "code",
   "execution_count": 213,
   "metadata": {
    "scrolled": true
   },
   "outputs": [
    {
     "name": "stdout",
     "output_type": "stream",
     "text": [
      "_________________________________________________________________\n",
      "Layer (type)                 Output Shape              Param #   \n",
      "=================================================================\n",
      "input_68 (InputLayer)        (None, 32, 32, 1)         0         \n",
      "_________________________________________________________________\n",
      "conv2d_235 (Conv2D)          (None, 32, 32, 24)        240       \n",
      "_________________________________________________________________\n",
      "max_pooling2d_104 (MaxPoolin (None, 16, 16, 24)        0         \n",
      "_________________________________________________________________\n",
      "conv2d_236 (Conv2D)          (None, 16, 16, 48)        10416     \n",
      "_________________________________________________________________\n",
      "max_pooling2d_105 (MaxPoolin (None, 8, 8, 48)          0         \n",
      "_________________________________________________________________\n",
      "conv2d_237 (Conv2D)          (None, 8, 8, 64)          27712     \n",
      "_________________________________________________________________\n",
      "max_pooling2d_106 (MaxPoolin (None, 4, 4, 64)          0         \n",
      "_________________________________________________________________\n",
      "conv2d_238 (Conv2D)          (None, 4, 4, 64)          36928     \n",
      "_________________________________________________________________\n",
      "up_sampling2d_105 (UpSamplin (None, 8, 8, 64)          0         \n",
      "_________________________________________________________________\n",
      "conv2d_239 (Conv2D)          (None, 8, 8, 48)          27696     \n",
      "_________________________________________________________________\n",
      "up_sampling2d_106 (UpSamplin (None, 16, 16, 48)        0         \n",
      "_________________________________________________________________\n",
      "conv2d_240 (Conv2D)          (None, 16, 16, 24)        10392     \n",
      "_________________________________________________________________\n",
      "up_sampling2d_107 (UpSamplin (None, 32, 32, 24)        0         \n",
      "_________________________________________________________________\n",
      "conv2d_241 (Conv2D)          (None, 32, 32, 1)         217       \n",
      "=================================================================\n",
      "Total params: 113,601\n",
      "Trainable params: 113,601\n",
      "Non-trainable params: 0\n",
      "_________________________________________________________________\n",
      "_________________________________________________________________\n",
      "Layer (type)                 Output Shape              Param #   \n",
      "=================================================================\n",
      "input_69 (InputLayer)        (64, 32, 32, 1)           0         \n",
      "_________________________________________________________________\n",
      "noiser (Model)               (64, 32, 32, 1)           0         \n",
      "_________________________________________________________________\n",
      "model_35 (Model)             multiple                  113601    \n",
      "=================================================================\n",
      "Total params: 113,601\n",
      "Trainable params: 113,601\n",
      "Non-trainable params: 0\n",
      "_________________________________________________________________\n"
     ]
    }
   ],
   "source": [
    "c_encoder, c_decoder, c_autoencoder = create_deep_conv_ae()\n",
    "\n",
    "noiser, denoiser_model = create_denoising_model(c_autoencoder)\n",
    "denoiser_model.compile(optimizer='adam', loss='binary_crossentropy')\n",
    "\n",
    "#c_autoencoder.compile(optimizer='adam', loss='binary_crossentropy')\n",
    "denoiser_model.summary()"
   ]
  },
  {
   "cell_type": "code",
   "execution_count": null,
   "metadata": {},
   "outputs": [
    {
     "name": "stdout",
     "output_type": "stream",
     "text": [
      "Epoch 1/20\n",
      "17984/17984 [==============================] - ETA: 14:37 - loss: 0.69 - ETA: 1:48 - loss: 0.6910 - ETA: 57s - loss: 0.684 - ETA: 38s - loss: 0.67 - ETA: 29s - loss: 0.66 - ETA: 23s - loss: 0.65 - ETA: 19s - loss: 0.64 - ETA: 15s - loss: 0.63 - ETA: 13s - loss: 0.63 - ETA: 11s - loss: 0.62 - ETA: 10s - loss: 0.62 - ETA: 9s - loss: 0.6188 - ETA: 8s - loss: 0.614 - ETA: 7s - loss: 0.611 - ETA: 6s - loss: 0.608 - ETA: 5s - loss: 0.605 - ETA: 5s - loss: 0.602 - ETA: 4s - loss: 0.600 - ETA: 4s - loss: 0.598 - ETA: 3s - loss: 0.597 - ETA: 3s - loss: 0.595 - ETA: 3s - loss: 0.593 - ETA: 2s - loss: 0.592 - ETA: 2s - loss: 0.590 - ETA: 2s - loss: 0.589 - ETA: 2s - loss: 0.589 - ETA: 1s - loss: 0.588 - ETA: 1s - loss: 0.587 - ETA: 1s - loss: 0.586 - ETA: 1s - loss: 0.585 - ETA: 1s - loss: 0.584 - ETA: 0s - loss: 0.584 - ETA: 0s - loss: 0.583 - ETA: 0s - loss: 0.582 - ETA: 0s - loss: 0.581 - ETA: 0s - loss: 0.581 - ETA: 0s - loss: 0.580 - 5s 286us/step - loss: 0.5803\n",
      "Epoch 2/20\n",
      "17984/17984 [==============================] - ETA: 1s - loss: 0.550 - ETA: 1s - loss: 0.559 - ETA: 1s - loss: 0.559 - ETA: 1s - loss: 0.560 - ETA: 1s - loss: 0.559 - ETA: 1s - loss: 0.559 - ETA: 1s - loss: 0.559 - ETA: 1s - loss: 0.558 - ETA: 1s - loss: 0.558 - ETA: 1s - loss: 0.557 - ETA: 1s - loss: 0.557 - ETA: 1s - loss: 0.556 - ETA: 1s - loss: 0.556 - ETA: 1s - loss: 0.556 - ETA: 1s - loss: 0.556 - ETA: 1s - loss: 0.555 - ETA: 1s - loss: 0.555 - ETA: 1s - loss: 0.555 - ETA: 1s - loss: 0.555 - ETA: 0s - loss: 0.555 - ETA: 0s - loss: 0.555 - ETA: 0s - loss: 0.555 - ETA: 0s - loss: 0.555 - ETA: 0s - loss: 0.554 - ETA: 0s - loss: 0.554 - ETA: 0s - loss: 0.554 - ETA: 0s - loss: 0.554 - ETA: 0s - loss: 0.554 - ETA: 0s - loss: 0.554 - ETA: 0s - loss: 0.554 - ETA: 0s - loss: 0.554 - ETA: 0s - loss: 0.554 - ETA: 0s - loss: 0.554 - ETA: 0s - loss: 0.554 - ETA: 0s - loss: 0.554 - ETA: 0s - loss: 0.554 - 2s 112us/step - loss: 0.5542\n",
      "Epoch 3/20\n",
      "17984/17984 [==============================] - ETA: 2s - loss: 0.539 - ETA: 2s - loss: 0.552 - ETA: 1s - loss: 0.550 - ETA: 1s - loss: 0.552 - ETA: 1s - loss: 0.551 - ETA: 1s - loss: 0.552 - ETA: 1s - loss: 0.551 - ETA: 1s - loss: 0.551 - ETA: 1s - loss: 0.551 - ETA: 1s - loss: 0.550 - ETA: 1s - loss: 0.550 - ETA: 1s - loss: 0.550 - ETA: 1s - loss: 0.549 - ETA: 1s - loss: 0.550 - ETA: 1s - loss: 0.549 - ETA: 1s - loss: 0.550 - ETA: 1s - loss: 0.550 - ETA: 1s - loss: 0.549 - ETA: 1s - loss: 0.550 - ETA: 0s - loss: 0.549 - ETA: 0s - loss: 0.549 - ETA: 0s - loss: 0.549 - ETA: 0s - loss: 0.549 - ETA: 0s - loss: 0.549 - ETA: 0s - loss: 0.549 - ETA: 0s - loss: 0.549 - ETA: 0s - loss: 0.549 - ETA: 0s - loss: 0.549 - ETA: 0s - loss: 0.549 - ETA: 0s - loss: 0.549 - ETA: 0s - loss: 0.549 - ETA: 0s - loss: 0.549 - ETA: 0s - loss: 0.549 - ETA: 0s - loss: 0.549 - ETA: 0s - loss: 0.549 - ETA: 0s - loss: 0.549 - ETA: 0s - loss: 0.549 - 2s 112us/step - loss: 0.5488\n",
      "Epoch 4/20\n",
      "17984/17984 [==============================] - ETA: 2s - loss: 0.534 - ETA: 1s - loss: 0.544 - ETA: 1s - loss: 0.545 - ETA: 1s - loss: 0.546 - ETA: 1s - loss: 0.545 - ETA: 1s - loss: 0.545 - ETA: 1s - loss: 0.546 - ETA: 1s - loss: 0.545 - ETA: 1s - loss: 0.545 - ETA: 1s - loss: 0.545 - ETA: 1s - loss: 0.546 - ETA: 1s - loss: 0.546 - ETA: 1s - loss: 0.546 - ETA: 1s - loss: 0.546 - ETA: 1s - loss: 0.546 - ETA: 1s - loss: 0.546 - ETA: 1s - loss: 0.546 - ETA: 1s - loss: 0.546 - ETA: 1s - loss: 0.546 - ETA: 0s - loss: 0.546 - ETA: 0s - loss: 0.545 - ETA: 0s - loss: 0.546 - ETA: 0s - loss: 0.545 - ETA: 0s - loss: 0.545 - ETA: 0s - loss: 0.545 - ETA: 0s - loss: 0.545 - ETA: 0s - loss: 0.546 - ETA: 0s - loss: 0.545 - ETA: 0s - loss: 0.546 - ETA: 0s - loss: 0.546 - ETA: 0s - loss: 0.546 - ETA: 0s - loss: 0.546 - ETA: 0s - loss: 0.546 - ETA: 0s - loss: 0.546 - ETA: 0s - loss: 0.546 - ETA: 0s - loss: 0.546 - ETA: 0s - loss: 0.546 - 2s 112us/step - loss: 0.5462\n",
      "Epoch 5/20\n",
      "17984/17984 [==============================] - ETA: 2s - loss: 0.543 - ETA: 1s - loss: 0.541 - ETA: 1s - loss: 0.542 - ETA: 1s - loss: 0.544 - ETA: 1s - loss: 0.546 - ETA: 1s - loss: 0.545 - ETA: 1s - loss: 0.545 - ETA: 1s - loss: 0.545 - ETA: 1s - loss: 0.545 - ETA: 1s - loss: 0.545 - ETA: 1s - loss: 0.545 - ETA: 1s - loss: 0.546 - ETA: 1s - loss: 0.546 - ETA: 1s - loss: 0.546 - ETA: 1s - loss: 0.545 - ETA: 1s - loss: 0.545 - ETA: 1s - loss: 0.545 - ETA: 1s - loss: 0.545 - ETA: 1s - loss: 0.544 - ETA: 0s - loss: 0.545 - ETA: 0s - loss: 0.545 - ETA: 0s - loss: 0.545 - ETA: 0s - loss: 0.545 - ETA: 0s - loss: 0.546 - ETA: 0s - loss: 0.546 - ETA: 0s - loss: 0.545 - ETA: 0s - loss: 0.545 - ETA: 0s - loss: 0.545 - ETA: 0s - loss: 0.545 - ETA: 0s - loss: 0.545 - ETA: 0s - loss: 0.545 - ETA: 0s - loss: 0.545 - ETA: 0s - loss: 0.545 - ETA: 0s - loss: 0.545 - ETA: 0s - loss: 0.544 - ETA: 0s - loss: 0.544 - ETA: 0s - loss: 0.544 - 2s 112us/step - loss: 0.5448\n",
      "Epoch 6/20\n",
      "17984/17984 [==============================] - ETA: 2s - loss: 0.550 - ETA: 1s - loss: 0.547 - ETA: 1s - loss: 0.545 - ETA: 1s - loss: 0.546 - ETA: 1s - loss: 0.546 - ETA: 1s - loss: 0.547 - ETA: 1s - loss: 0.547 - ETA: 1s - loss: 0.546 - ETA: 1s - loss: 0.545 - ETA: 1s - loss: 0.544 - ETA: 1s - loss: 0.544 - ETA: 1s - loss: 0.544 - ETA: 1s - loss: 0.544 - ETA: 1s - loss: 0.544 - ETA: 1s - loss: 0.544 - ETA: 1s - loss: 0.543 - ETA: 1s - loss: 0.544 - ETA: 1s - loss: 0.544 - ETA: 1s - loss: 0.544 - ETA: 0s - loss: 0.544 - ETA: 0s - loss: 0.544 - ETA: 0s - loss: 0.544 - ETA: 0s - loss: 0.544 - ETA: 0s - loss: 0.544 - ETA: 0s - loss: 0.543 - ETA: 0s - loss: 0.543 - ETA: 0s - loss: 0.544 - ETA: 0s - loss: 0.544 - ETA: 0s - loss: 0.544 - ETA: 0s - loss: 0.544 - ETA: 0s - loss: 0.544 - ETA: 0s - loss: 0.544 - ETA: 0s - loss: 0.543 - ETA: 0s - loss: 0.543 - ETA: 0s - loss: 0.543 - ETA: 0s - loss: 0.543 - ETA: 0s - loss: 0.543 - 2s 112us/step - loss: 0.5435\n",
      "Epoch 7/20\n",
      "17984/17984 [==============================] - ETA: 2s - loss: 0.549 - ETA: 1s - loss: 0.540 - ETA: 1s - loss: 0.540 - ETA: 1s - loss: 0.541 - ETA: 1s - loss: 0.542 - ETA: 1s - loss: 0.543 - ETA: 1s - loss: 0.544 - ETA: 1s - loss: 0.544 - ETA: 1s - loss: 0.544 - ETA: 1s - loss: 0.545 - ETA: 1s - loss: 0.545 - ETA: 1s - loss: 0.544 - ETA: 1s - loss: 0.544 - ETA: 1s - loss: 0.544 - ETA: 1s - loss: 0.544 - ETA: 1s - loss: 0.544 - ETA: 1s - loss: 0.544 - ETA: 1s - loss: 0.543 - ETA: 0s - loss: 0.543 - ETA: 0s - loss: 0.543 - ETA: 0s - loss: 0.543 - ETA: 0s - loss: 0.543 - ETA: 0s - loss: 0.543 - ETA: 0s - loss: 0.543 - ETA: 0s - loss: 0.543 - ETA: 0s - loss: 0.543 - ETA: 0s - loss: 0.543 - ETA: 0s - loss: 0.543 - ETA: 0s - loss: 0.543 - ETA: 0s - loss: 0.543 - ETA: 0s - loss: 0.543 - ETA: 0s - loss: 0.542 - ETA: 0s - loss: 0.542 - ETA: 0s - loss: 0.542 - ETA: 0s - loss: 0.542 - ETA: 0s - loss: 0.542 - 2s 112us/step - loss: 0.5427\n",
      "Epoch 8/20\n",
      "11520/17984 [==================>...........] - ETA: 2s - loss: 0.533 - ETA: 1s - loss: 0.546 - ETA: 1s - loss: 0.546 - ETA: 1s - loss: 0.546 - ETA: 1s - loss: 0.544 - ETA: 1s - loss: 0.544 - ETA: 1s - loss: 0.544 - ETA: 1s - loss: 0.543 - ETA: 1s - loss: 0.542 - ETA: 1s - loss: 0.541 - ETA: 1s - loss: 0.541 - ETA: 1s - loss: 0.541 - ETA: 1s - loss: 0.541 - ETA: 1s - loss: 0.541 - ETA: 1s - loss: 0.541 - ETA: 1s - loss: 0.542 - ETA: 1s - loss: 0.541 - ETA: 1s - loss: 0.541 - ETA: 0s - loss: 0.541 - ETA: 0s - loss: 0.541 - ETA: 0s - loss: 0.541 - ETA: 0s - loss: 0.541 - ETA: 0s - loss: 0.541 - ETA: 0s - loss: 0.5411"
     ]
    }
   ],
   "source": [
    "denoiser_model.fit(images[:-(images.shape[0]%64)],images[:-(images.shape[0]%64)],\n",
    "                epochs=20, batch_size=batch_size)"
   ]
  },
  {
   "cell_type": "code",
   "execution_count": 197,
   "metadata": {},
   "outputs": [],
   "source": [
    "%matplotlib inline\n",
    "import seaborn as sns\n",
    "import matplotlib.pyplot as plt\n",
    "\n",
    "def plot_digits(*args):\n",
    "    args = [x.squeeze() for x in args]\n",
    "    n = min([x.shape[0] for x in args])\n",
    "    \n",
    "    plt.figure(figsize=(2*n, 2*len(args)))\n",
    "    for j in range(n):\n",
    "        for i in range(len(args)):\n",
    "            ax = plt.subplot(len(args), n, i*n + j + 1)\n",
    "            plt.imshow(args[i][j])\n",
    "            plt.gray()\n",
    "            ax.get_xaxis().set_visible(False)\n",
    "            ax.get_yaxis().set_visible(False)\n",
    "\n",
    "    plt.show()"
   ]
  },
  {
   "cell_type": "code",
   "execution_count": 198,
   "metadata": {
    "scrolled": true
   },
   "outputs": [
    {
     "data": {
      "text/plain": [
       "array([[[0.0799021 ],\n",
       "        [0.04888534],\n",
       "        [0.0362246 ],\n",
       "        ...,\n",
       "        [0.02222718],\n",
       "        [0.0306372 ],\n",
       "        [0.0439833 ]],\n",
       "\n",
       "       [[0.06015688],\n",
       "        [0.05300611],\n",
       "        [0.04264843],\n",
       "        ...,\n",
       "        [0.03333145],\n",
       "        [0.04309506],\n",
       "        [0.02959912]],\n",
       "\n",
       "       [[0.05849668],\n",
       "        [0.05822436],\n",
       "        [0.05568596],\n",
       "        ...,\n",
       "        [0.03842479],\n",
       "        [0.04750946],\n",
       "        [0.03029132]],\n",
       "\n",
       "       ...,\n",
       "\n",
       "       [[0.03322822],\n",
       "        [0.02168647],\n",
       "        [0.01767669],\n",
       "        ...,\n",
       "        [0.00240292],\n",
       "        [0.00394481],\n",
       "        [0.00601574]],\n",
       "\n",
       "       [[0.03256363],\n",
       "        [0.01865334],\n",
       "        [0.01632312],\n",
       "        ...,\n",
       "        [0.0029094 ],\n",
       "        [0.00467079],\n",
       "        [0.00688911]],\n",
       "\n",
       "       [[0.03939983],\n",
       "        [0.01759825],\n",
       "        [0.01378536],\n",
       "        ...,\n",
       "        [0.00273604],\n",
       "        [0.00408764],\n",
       "        [0.00978319]]], dtype=float32)"
      ]
     },
     "execution_count": 198,
     "metadata": {},
     "output_type": "execute_result"
    }
   ],
   "source": [
    "n = 10\n",
    "\n",
    "imgs = images[:n]\n",
    "encoded_imgs = c_autoencoder.predict(imgs, batch_size=n)\n",
    "encoded_imgs[0]"
   ]
  },
  {
   "cell_type": "code",
   "execution_count": 199,
   "metadata": {},
   "outputs": [
    {
     "data": {
      "image/png": "[encoded data removed]",
      "text/plain": [
       "<Figure size 1440x288 with 20 Axes>"
      ]
     },
     "metadata": {
      "needs_background": "light"
     },
     "output_type": "display_data"
    }
   ],
   "source": [
    "decoded_imgs = c_autoencoder.predict(encoded_imgs, batch_size=n)\n",
    "\n",
    "plot_digits(imgs, decoded_imgs)"
   ]
  },
  {
   "cell_type": "code",
   "execution_count": null,
   "metadata": {},
   "outputs": [],
   "source": []
  }
 ],
 "metadata": {
  "kernelspec": {
   "display_name": "Python 3",
   "language": "python",
   "name": "python3"
  },
  "language_info": {
   "codemirror_mode": {
    "name": "ipython",
    "version": 3
   },
   "file_extension": ".py",
   "mimetype": "text/x-python",
   "name": "python",
   "nbconvert_exporter": "python",
   "pygments_lexer": "ipython3",
   "version": "3.6.7"
  }
 },
 "nbformat": 4,
 "nbformat_minor": 2
}
